{
 "cells": [
  {
   "cell_type": "code",
   "execution_count": 1,
   "id": "85afd80c",
   "metadata": {},
   "outputs": [],
   "source": [
    "import pandas as pd, numpy as np\n",
    "import matplotlib.pyplot as plt\n",
    "from sklearn.ensemble import RandomForestClassifier\n",
    "from sklearn.model_selection import train_test_split\n",
    "from sklearn import preprocessing\n",
    "from sklearn.preprocessing import LabelEncoder\n",
    "from sklearn.preprocessing import OneHotEncoder\n",
    "import joblib\n",
    "from sklearn.metrics import accuracy_score"
   ]
  },
  {
   "cell_type": "code",
   "execution_count": 2,
   "id": "18add374",
   "metadata": {},
   "outputs": [],
   "source": [
    "data = pd.read_csv(\"C:/Users/Abdalla Hamdy/OneDrive/Desktop/output_dataset.csv\", sep=\",\")\n",
    "data = data.dropna(axis=0, how='any')"
   ]
  },
  {
   "cell_type": "code",
   "execution_count": 3,
   "id": "baaa53d2",
   "metadata": {},
   "outputs": [],
   "source": [
    "label_encoder = preprocessing.LabelEncoder()\n",
    "data['County'] = label_encoder.fit_transform(data['County'])\n",
    "data['State'] = label_encoder.fit_transform(data['State'])\n",
    "data['Timezone'] = label_encoder.fit_transform(data['Timezone'])\n",
    "data['Wind_Direction'] = label_encoder.fit_transform(data['Wind_Direction'])\n",
    "data['Weather_Condition'] = label_encoder.fit_transform(data['Weather_Condition'])\n",
    "data['Sunrise_Sunset'] = label_encoder.fit_transform(data['Sunrise_Sunset'])\n",
    "data['City'] = label_encoder.fit_transform(data['City'])"
   ]
  },
  {
   "cell_type": "code",
   "execution_count": 4,
   "id": "1d892781",
   "metadata": {},
   "outputs": [],
   "source": [
    "data2 = np.array(data['Distance(mi)'])\n",
    "q1, q3 = np.percentile(data2, [25, 75])\n",
    "iqr = q3 - q1\n",
    "lower_bound = q1 - 1.5*iqr\n",
    "upper_bound = q3 + 1.5*iqr\n",
    "Distanceoutliers = data2[(data2 < lower_bound) | (data2 > upper_bound)]\n",
    "data2 = np.array(data['Pressure(in)'])\n",
    "q1, q3 = np.percentile(data2, [25, 75])\n",
    "iqr = q3 - q1\n",
    "lower_bound = q1 - 1.5*iqr\n",
    "upper_bound = q3 + 1.5*iqr\n",
    "Pressureoutliers = data2[(data2 < lower_bound) | (data2 > upper_bound)]\n",
    "data2 = np.array(data['Visibility(mi)'])\n",
    "q1, q3 = np.percentile(data2, [25, 75])\n",
    "iqr = q3 - q1\n",
    "lower_bound = q1 - 1.5*iqr\n",
    "upper_bound = q3 + 1.5*iqr\n",
    "Visibilityoutliers = data2[(data2 < lower_bound) | (data2 > upper_bound)]\n",
    "data2 = np.array(data['Wind_Speed(mph)'])\n",
    "q1, q3 = np.percentile(data2, [25, 75])\n",
    "iqr = q3 - q1\n",
    "lower_bound = q1 - 1.5*iqr\n",
    "upper_bound = q3 + 1.5*iqr\n",
    "Wind_Speedoutliers = data2[(data2 < lower_bound) | (data2 > upper_bound)]\n",
    "\n",
    "\t\n",
    "data['Humidity(%)'] = data['Humidity(%)'].fillna(data['Humidity(%)'].mode()[0])\n",
    "data['City'] = data['City'].fillna(data['City'].mode()[0])\n",
    "data['Distance(mi)']=data['Distance(mi)'].fillna(data['Distance(mi)'].median())\n",
    "data['County'] = data['County'].fillna(data['County'].mode()[0])\n",
    "data['State'] = data['State'].fillna(data['State'].mode()[0])\n",
    "data['Timezone']=data['Timezone'].fillna(data['Timezone'].median())\n",
    "data['Temperature(F)']=data['Temperature(F)'].fillna(data['Temperature(F)'].median())\n",
    "data['Pressure(in)']=data['Pressure(in)'].fillna(data['Pressure(in)'].median())\n",
    "data['Visibility(mi)']=data['Visibility(mi)'].fillna(data['Visibility(mi)'].median())\n",
    "data['Wind_Direction'] = data['Wind_Direction'].fillna(data['Wind_Direction'].mode()[0])\n",
    "data['Wind_Speed(mph)']=data['Wind_Speed(mph)'].fillna(data['Wind_Speed(mph)'].median())\n",
    "data['Weather_Condition'] = data['Weather_Condition'].fillna(data['Wind_Direction'].mode()[0])\n",
    "\n",
    "des=data['Distance(mi)'].median()\n",
    "p=data['Pressure(in)'].median()\n",
    "v=data['Visibility(mi)'].median()\n",
    "w=data['Wind_Speed(mph)'].median()"
   ]
  },
  {
   "cell_type": "code",
   "execution_count": 5,
   "id": "051f2f63",
   "metadata": {},
   "outputs": [],
   "source": [
    "x = np.array(data[['Humidity(%)', 'City', 'Distance(mi)', 'County', 'State', 'Timezone', 'Temperature(F)', 'Pressure(in)',\n",
    "             'Visibility(mi)', 'Wind_Direction', 'Wind_Speed(mph)', 'Weather_Condition', 'Sunrise_Sunset']])\n",
    "y = np.array(data['Severity'])"
   ]
  },
  {
   "cell_type": "code",
   "execution_count": 6,
   "id": "80d21f4f",
   "metadata": {},
   "outputs": [],
   "source": [
    "for i in range(len(x)):\n",
    "    if x[i][3] in Distanceoutliers:\n",
    "        x[i][3] = des\n",
    "\n",
    "for i in range(len(x)):\n",
    "    if x[i][8] in Pressureoutliers:\n",
    "        x[i][8] = p\n",
    "\n",
    "for i in range(len(x)):\n",
    "    if x[i][9] in Visibilityoutliers:\n",
    "        x[i][9] = v\n",
    "\n",
    "for i in range(len(x)):\n",
    "    if x[i][11] in Wind_Speedoutliers:\n",
    "        x[i][11] = w"
   ]
  },
  {
   "cell_type": "code",
   "execution_count": 31,
   "id": "23508b69",
   "metadata": {},
   "outputs": [
    {
     "name": "stdout",
     "output_type": "stream",
     "text": [
      "Accuracy: 0.8722562072688017\n"
     ]
    }
   ],
   "source": [
    "X_train, X_test, y_train, y_test = train_test_split(x, y, train_size=0.8, random_state=50)\n",
    "X_train.shape, X_test.shape\n",
    "classifier_rf = RandomForestClassifier(random_state=50, n_jobs=-1, max_depth=None,n_estimators=1000, oob_score=True\n",
    "                                       ,min_samples_leaf =1,min_samples_split=4,max_features =\"sqrt\")\n",
    "classifier_rf.fit(X_train, y_train)\n",
    "classifier_rf.oob_score_\n",
    "y_pred = classifier_rf.predict(X_test)\n",
    "accuracy = accuracy_score(y_test, y_pred)\n",
    "print('Accuracy:', accuracy)"
   ]
  },
  {
   "cell_type": "code",
   "execution_count": 14,
   "id": "a60a69d5",
   "metadata": {},
   "outputs": [
    {
     "data": {
      "text/plain": [
       "['RF_Max.ipynb']"
      ]
     },
     "execution_count": 14,
     "metadata": {},
     "output_type": "execute_result"
    }
   ],
   "source": [
    "#filename = \"RF_Max.ipynb\"\n",
    "#joblib.dump(classifier_rf, filename)"
   ]
  },
  {
   "cell_type": "code",
   "execution_count": null,
   "id": "df1616f2",
   "metadata": {},
   "outputs": [],
   "source": []
  }
 ],
 "metadata": {
  "kernelspec": {
   "display_name": "Python 3 (ipykernel)",
   "language": "python",
   "name": "python3"
  },
  "language_info": {
   "codemirror_mode": {
    "name": "ipython",
    "version": 3
   },
   "file_extension": ".py",
   "mimetype": "text/x-python",
   "name": "python",
   "nbconvert_exporter": "python",
   "pygments_lexer": "ipython3",
   "version": "3.10.9"
  }
 },
 "nbformat": 4,
 "nbformat_minor": 5
}
