{
  "nbformat": 4,
  "nbformat_minor": 0,
  "metadata": {
    "colab": {
      "provenance": []
    },
    "kernelspec": {
      "name": "python3",
      "display_name": "Python 3"
    },
    "language_info": {
      "name": "python"
    }
  },
  "cells": [
    {
      "cell_type": "code",
      "execution_count": 2,
      "metadata": {
        "id": "D6GMZX0y9oKI"
      },
      "outputs": [],
      "source": [
        "import numpy as np\n",
        "#import random\n",
        "import pandas as pd\n",
        "import sklearn\n",
        "from sklearn import linear_model\n",
        "from sklearn.utils import shuffle\n",
        "import matplotlib.pyplot as plt\n",
        "from matplotlib import style\n",
        "from sklearn.model_selection import train_test_split\n",
        "from sklearn.metrics import mean_squared_error, r2_score\n",
        "from sklearn import preprocessing\n",
        "from sklearn.preprocessing import LabelEncoder\n",
        "from sklearn.preprocessing import PolynomialFeatures\n",
        "from sklearn.svm import SVC\n",
        "import copy\n",
        "from numba import jit, cuda\n",
        "import numpy as np\n",
        "from sklearn.model_selection import cross_val_score\n",
        "from sklearn.model_selection import KFold\n",
        "from sklearn import datasets\n",
        "from sklearn import svm\n",
        "from sklearn.model_selection import cross_val_score\n",
        "from sklearn.impute import KNNImputer"
      ]
    },
    {
      "cell_type": "code",
      "source": [
        "data = pd.read_csv(\"severitysubset.csv\", sep=\",\")"
      ],
      "metadata": {
        "id": "f2jPo07r-qEb"
      },
      "execution_count": 11,
      "outputs": []
    },
    {
      "cell_type": "code",
      "source": [
        "label_encoder = preprocessing.LabelEncoder()\n",
        "data['Side'] = label_encoder.fit_transform(data['Side'])\n",
        "data['County'] = label_encoder.fit_transform(data['County'])\n",
        "data['State'] = label_encoder.fit_transform(data['State'])\n",
        "data['Timezone'] = label_encoder.fit_transform(data['Timezone'])\n",
        "data['Wind_Direction'] = label_encoder.fit_transform(data['Wind_Direction'])\n",
        "data['Weather_Condition'] = label_encoder.fit_transform(data['Weather_Condition'])\n",
        "data['Crossing'] = label_encoder.fit_transform(data['Crossing'])\n",
        "data['Traffic_Signal'] = label_encoder.fit_transform(data['Traffic_Signal'])\n",
        "data['Sunrise_Sunset'] = label_encoder.fit_transform(data['Sunrise_Sunset'])\n",
        "data['City'] = label_encoder.fit_transform(data['City'])\n",
        "data['Street'] = label_encoder.fit_transform(data['Street'])\n",
        "# data['Severity'] = label_encoder.fit_transform(data['Severity'])"
      ],
      "metadata": {
        "id": "xjNqW-RD-nEq"
      },
      "execution_count": 12,
      "outputs": []
    },
    {
      "cell_type": "code",
      "source": [
        "data2 = np.array(data['Distance(mi)'])\n",
        "q1, q3 = np.percentile(data2, [25, 75])\n",
        "iqr = q3 - q1\n",
        "lower_bound = q1 - 1.5*iqr\n",
        "upper_bound = q3 + 1.5*iqr\n",
        "Distanceoutliers = data2[(data2 < lower_bound) | (data2 > upper_bound)]\n",
        "data2 = np.array(data['Pressure(in)'])\n",
        "q1, q3 = np.percentile(data2, [25, 75])\n",
        "iqr = q3 - q1\n",
        "lower_bound = q1 - 1.5*iqr\n",
        "upper_bound = q3 + 1.5*iqr\n",
        "Pressureoutliers = data2[(data2 < lower_bound) | (data2 > upper_bound)]\n",
        "data2 = np.array(data['Visibility(mi)'])\n",
        "q1, q3 = np.percentile(data2, [25, 75])\n",
        "iqr = q3 - q1\n",
        "lower_bound = q1 - 1.5*iqr\n",
        "upper_bound = q3 + 1.5*iqr\n",
        "Visibilityoutliers = data2[(data2 < lower_bound) | (data2 > upper_bound)]\n",
        "data2 = np.array(data['Wind_Speed(mph)'])\n",
        "q1, q3 = np.percentile(data2, [25, 75])\n",
        "iqr = q3 - q1\n",
        "lower_bound = q1 - 1.5*iqr\n",
        "upper_bound = q3 + 1.5*iqr\n",
        "Wind_Speedoutliers = data2[(data2 < lower_bound) | (data2 > upper_bound)]\n",
        "# data = data.fillna(0)\n",
        "\n",
        "\n"
      ],
      "metadata": {
        "id": "dQwD0WDm_AxI",
        "colab": {
          "base_uri": "https://localhost:8080/"
        },
        "outputId": "9d22665a-af7d-4de6-d09b-be1e1aca646a"
      },
      "execution_count": 13,
      "outputs": [
        {
          "output_type": "execute_result",
          "data": {
            "text/plain": [
              "ID                           0\n",
              "Severity                     0\n",
              "Start_Time                   0\n",
              "End_Time                     0\n",
              "Start_Lat                    0\n",
              "Start_Lng                    0\n",
              "End_Lat                      0\n",
              "End_Lng                      0\n",
              "Distance(mi)                 0\n",
              "Description                  0\n",
              "Number                   18944\n",
              "Street                       0\n",
              "Side                         0\n",
              "City                         0\n",
              "County                       0\n",
              "State                        0\n",
              "Zipcode                     11\n",
              "Country                      0\n",
              "Timezone                     0\n",
              "Airport_Code               109\n",
              "Weather_Timestamp          678\n",
              "Temperature(F)             846\n",
              "Wind_Chill(F)             1401\n",
              "Humidity(%)                953\n",
              "Pressure(in)               723\n",
              "Visibility(mi)             891\n",
              "Wind_Direction               0\n",
              "Wind_Speed(mph)           1289\n",
              "Precipitation(in)         1329\n",
              "Weather_Condition            0\n",
              "Amenity                      0\n",
              "Bump                         0\n",
              "Crossing                     0\n",
              "Give_Way                     0\n",
              "Junction                     0\n",
              "No_Exit                      0\n",
              "Railway                      0\n",
              "Roundabout                   0\n",
              "Station                      0\n",
              "Stop                         0\n",
              "Traffic_Calming              0\n",
              "Traffic_Signal               0\n",
              "Turning_Loop                 0\n",
              "Sunrise_Sunset               0\n",
              "Civil_Twilight               2\n",
              "Nautical_Twilight            2\n",
              "Astronomical_Twilight        2\n",
              "dtype: int64"
            ]
          },
          "metadata": {},
          "execution_count": 13
        }
      ]
    },
    {
      "cell_type": "code",
      "source": [
        "data=data.fillna(data.median())\n",
        "x = np.array(data[['Humidity(%)', 'Start_Lat', 'City', 'Distance(mi)', 'County', 'State', 'Timezone', 'Temperature(F)', 'Pressure(in)',\n",
        "             'Visibility(mi)', 'Wind_Direction', 'Wind_Speed(mph)', 'Weather_Condition', 'Sunrise_Sunset']])"
      ],
      "metadata": {
        "id": "5Qk93ifv_G_z",
        "colab": {
          "base_uri": "https://localhost:8080/"
        },
        "outputId": "6b65db17-fcd5-4797-aeb4-c533543779ce"
      },
      "execution_count": 28,
      "outputs": [
        {
          "output_type": "stream",
          "name": "stderr",
          "text": [
            "<ipython-input-28-64600f50f27b>:1: FutureWarning: The default value of numeric_only in DataFrame.median is deprecated. In a future version, it will default to False. In addition, specifying 'numeric_only=None' is deprecated. Select only valid columns or specify the value of numeric_only to silence this warning.\n",
            "  data=data.fillna(data.median())\n"
          ]
        }
      ]
    },
    {
      "cell_type": "code",
      "source": [
        "\n",
        "# for i in range(len(x)):\n",
        "#     if x[i][3] in Distanceoutliers:\n",
        "#         x[i][3] = 0\n",
        "\n",
        "\n",
        "# for i in range(len(x)):\n",
        "#     if x[i][8] in Pressureoutliers:\n",
        "#         x[i][8] = 0\n",
        "\n",
        "\n",
        "# for i in range(len(x)):\n",
        "#     if x[i][9] in Visibilityoutliers:\n",
        "#         x[i][9] = 0\n",
        "\n",
        "\n",
        "# for i in range(len(x)):\n",
        "#     if x[i][11] in Wind_Speedoutliers:\n",
        "#         x[i][11] = 0\n",
        "\n"
      ],
      "metadata": {
        "id": "bEuhILeH_Vty"
      },
      "execution_count": 7,
      "outputs": []
    },
    {
      "cell_type": "code",
      "source": [
        "\n",
        "y = np.array(data['Severity'])\n",
        "import seaborn as sns\n",
        "sns.boxplot(data['Wind_Speed(mph)'])\n",
        "#\n",
        "# Distribution plot\n",
        "#\n",
        "sns.distplot(data['Wind_Speed(mph)'])\n",
        "fig,ax=plt.subplots(figsize=(10,8))\n",
        "sns.displot(data['Wind_Speed(mph)'])\n",
        "print(data.isna().sum())\n",
        "\n",
        "\n",
        "# imputer= Imputer(missing_values ='NaN',strategy='mean', axis = 0)  \n",
        "# imputerimputer= imputer.fit(x) \n",
        "# x= imputer.transform(x)  \n",
        "\n",
        "x_train, x_test, y_train, y_test = train_test_split(\n",
        "    x, y, test_size=0.2, random_state=24,shuffle=True)\n"
      ],
      "metadata": {
        "id": "u8Lq22ga_biP",
        "colab": {
          "base_uri": "https://localhost:8080/",
          "height": 1000
        },
        "outputId": "6607c280-29d6-41f4-9f04-6f7c6429e4bd"
      },
      "execution_count": 29,
      "outputs": [
        {
          "output_type": "stream",
          "name": "stderr",
          "text": [
            "<ipython-input-29-04d6358d75da>:7: UserWarning: \n",
            "\n",
            "`distplot` is a deprecated function and will be removed in seaborn v0.14.0.\n",
            "\n",
            "Please adapt your code to use either `displot` (a figure-level function with\n",
            "similar flexibility) or `histplot` (an axes-level function for histograms).\n",
            "\n",
            "For a guide to updating your code to use the new functions, please see\n",
            "https://gist.github.com/mwaskom/de44147ed2974457ad6372750bbe5751\n",
            "\n",
            "  sns.distplot(data['Wind_Speed(mph)'])\n"
          ]
        },
        {
          "output_type": "stream",
          "name": "stdout",
          "text": [
            "ID                         0\n",
            "Severity                   0\n",
            "Start_Time                 0\n",
            "End_Time                   0\n",
            "Start_Lat                  0\n",
            "Start_Lng                  0\n",
            "End_Lat                    0\n",
            "End_Lng                    0\n",
            "Distance(mi)               0\n",
            "Description                0\n",
            "Number                     0\n",
            "Street                     0\n",
            "Side                       0\n",
            "City                       0\n",
            "County                     0\n",
            "State                      0\n",
            "Zipcode                   11\n",
            "Country                    0\n",
            "Timezone                   0\n",
            "Airport_Code             109\n",
            "Weather_Timestamp        678\n",
            "Temperature(F)             0\n",
            "Wind_Chill(F)              0\n",
            "Humidity(%)                0\n",
            "Pressure(in)               0\n",
            "Visibility(mi)             0\n",
            "Wind_Direction             0\n",
            "Wind_Speed(mph)            0\n",
            "Precipitation(in)          0\n",
            "Weather_Condition          0\n",
            "Amenity                    0\n",
            "Bump                       0\n",
            "Crossing                   0\n",
            "Give_Way                   0\n",
            "Junction                   0\n",
            "No_Exit                    0\n",
            "Railway                    0\n",
            "Roundabout                 0\n",
            "Station                    0\n",
            "Stop                       0\n",
            "Traffic_Calming            0\n",
            "Traffic_Signal             0\n",
            "Turning_Loop               0\n",
            "Sunrise_Sunset             0\n",
            "Civil_Twilight             2\n",
            "Nautical_Twilight          2\n",
            "Astronomical_Twilight      2\n",
            "dtype: int64\n"
          ]
        },
        {
          "output_type": "display_data",
          "data": {
            "text/plain": [
              "<Figure size 640x480 with 1 Axes>"
            ],
            "image/png": "[encoded data removed]"
          },
          "metadata": {}
        },
        {
          "output_type": "display_data",
          "data": {
            "text/plain": [
              "<Figure size 1000x800 with 1 Axes>"
            ],
            "image/png": "[encoded data removed]"
          },
          "metadata": {}
        },
        {
          "output_type": "display_data",
          "data": {
            "text/plain": [
              "<Figure size 500x500 with 1 Axes>"
            ],
            "image/png": "[encoded data removed]"
          },
          "metadata": {}
        }
      ]
    },
    {
      "cell_type": "code",
      "source": [],
      "metadata": {
        "id": "b8pUIIUPkdtf"
      },
      "execution_count": null,
      "outputs": []
    },
    {
      "cell_type": "code",
      "source": [
        "\n",
        "svm = SVC(C=10000.0, kernel='rbf', degree=4, gamma='scale', coef0=0.0, shrinking=True, probability=False, tol=0.001, cache_size=200,\n",
        "            class_weight='balanced', verbose=False, max_iter=-1, decision_function_shape='ovr', break_ties=True, random_state=None)\n",
        "svm.fit(x_train, y_train)\n",
        "acc = svm.score(x_test, y_test)\n",
        "print(\"Acc\", acc)\n",
        "y_pred = svm.predict(x_test)\n",
        "print(\"MSA=\", mean_squared_error(y_test, y_pred))"
      ],
      "metadata": {
        "colab": {
          "base_uri": "https://localhost:8080/"
        },
        "id": "XpfmfuHZ_c1B",
        "outputId": "9f0bf418-34df-4cc6-ce16-ca969713d38e"
      },
      "execution_count": 30,
      "outputs": [
        {
          "output_type": "stream",
          "name": "stdout",
          "text": [
            "Acc 0.6111666666666666\n",
            "MSA= 0.7878333333333334\n"
          ]
        }
      ]
    },
    {
      "cell_type": "code",
      "source": [
        "from sklearn.naive_bayes import GaussianNB\n",
        "from sklearn.metrics import accuracy_score, recall_score, precision_score, f1_score\n",
        "from sklearn import preprocessing"
      ],
      "metadata": {
        "id": "BoQIl4VUWc07"
      },
      "execution_count": 31,
      "outputs": []
    },
    {
      "cell_type": "code",
      "source": [
        "clf = GaussianNB()\n",
        "clf.fit(x_train, y_train)"
      ],
      "metadata": {
        "colab": {
          "base_uri": "https://localhost:8080/",
          "height": 74
        },
        "id": "k-D7SzSRWhiB",
        "outputId": "30db3bb2-85ef-423a-d0be-f654a720c908"
      },
      "execution_count": 32,
      "outputs": [
        {
          "output_type": "execute_result",
          "data": {
            "text/plain": [
              "GaussianNB()"
            ],
            "text/html": [
              "<style>#sk-container-id-1 {color: black;background-color: white;}#sk-container-id-1 pre{padding: 0;}#sk-container-id-1 div.sk-toggleable {background-color: white;}#sk-container-id-1 label.sk-toggleable__label {cursor: pointer;display: block;width: 100%;margin-bottom: 0;padding: 0.3em;box-sizing: border-box;text-align: center;}#sk-container-id-1 label.sk-toggleable__label-arrow:before {content: \"▸\";float: left;margin-right: 0.25em;color: #696969;}#sk-container-id-1 label.sk-toggleable__label-arrow:hover:before {color: black;}#sk-container-id-1 div.sk-estimator:hover label.sk-toggleable__label-arrow:before {color: black;}#sk-container-id-1 div.sk-toggleable__content {max-height: 0;max-width: 0;overflow: hidden;text-align: left;background-color: #f0f8ff;}#sk-container-id-1 div.sk-toggleable__content pre {margin: 0.2em;color: black;border-radius: 0.25em;background-color: #f0f8ff;}#sk-container-id-1 input.sk-toggleable__control:checked~div.sk-toggleable__content {max-height: 200px;max-width: 100%;overflow: auto;}#sk-container-id-1 input.sk-toggleable__control:checked~label.sk-toggleable__label-arrow:before {content: \"▾\";}#sk-container-id-1 div.sk-estimator input.sk-toggleable__control:checked~label.sk-toggleable__label {background-color: #d4ebff;}#sk-container-id-1 div.sk-label input.sk-toggleable__control:checked~label.sk-toggleable__label {background-color: #d4ebff;}#sk-container-id-1 input.sk-hidden--visually {border: 0;clip: rect(1px 1px 1px 1px);clip: rect(1px, 1px, 1px, 1px);height: 1px;margin: -1px;overflow: hidden;padding: 0;position: absolute;width: 1px;}#sk-container-id-1 div.sk-estimator {font-family: monospace;background-color: #f0f8ff;border: 1px dotted black;border-radius: 0.25em;box-sizing: border-box;margin-bottom: 0.5em;}#sk-container-id-1 div.sk-estimator:hover {background-color: #d4ebff;}#sk-container-id-1 div.sk-parallel-item::after {content: \"\";width: 100%;border-bottom: 1px solid gray;flex-grow: 1;}#sk-container-id-1 div.sk-label:hover label.sk-toggleable__label {background-color: #d4ebff;}#sk-container-id-1 div.sk-serial::before {content: \"\";position: absolute;border-left: 1px solid gray;box-sizing: border-box;top: 0;bottom: 0;left: 50%;z-index: 0;}#sk-container-id-1 div.sk-serial {display: flex;flex-direction: column;align-items: center;background-color: white;padding-right: 0.2em;padding-left: 0.2em;position: relative;}#sk-container-id-1 div.sk-item {position: relative;z-index: 1;}#sk-container-id-1 div.sk-parallel {display: flex;align-items: stretch;justify-content: center;background-color: white;position: relative;}#sk-container-id-1 div.sk-item::before, #sk-container-id-1 div.sk-parallel-item::before {content: \"\";position: absolute;border-left: 1px solid gray;box-sizing: border-box;top: 0;bottom: 0;left: 50%;z-index: -1;}#sk-container-id-1 div.sk-parallel-item {display: flex;flex-direction: column;z-index: 1;position: relative;background-color: white;}#sk-container-id-1 div.sk-parallel-item:first-child::after {align-self: flex-end;width: 50%;}#sk-container-id-1 div.sk-parallel-item:last-child::after {align-self: flex-start;width: 50%;}#sk-container-id-1 div.sk-parallel-item:only-child::after {width: 0;}#sk-container-id-1 div.sk-dashed-wrapped {border: 1px dashed gray;margin: 0 0.4em 0.5em 0.4em;box-sizing: border-box;padding-bottom: 0.4em;background-color: white;}#sk-container-id-1 div.sk-label label {font-family: monospace;font-weight: bold;display: inline-block;line-height: 1.2em;}#sk-container-id-1 div.sk-label-container {text-align: center;}#sk-container-id-1 div.sk-container {/* jupyter's `normalize.less` sets `[hidden] { display: none; }` but bootstrap.min.css set `[hidden] { display: none !important; }` so we also need the `!important` here to be able to override the default hidden behavior on the sphinx rendered scikit-learn.org. See: https://github.com/scikit-learn/scikit-learn/issues/21755 */display: inline-block !important;position: relative;}#sk-container-id-1 div.sk-text-repr-fallback {display: none;}</style><div id=\"sk-container-id-1\" class=\"sk-top-container\"><div class=\"sk-text-repr-fallback\"><pre>GaussianNB()</pre><b>In a Jupyter environment, please rerun this cell to show the HTML representation or trust the notebook. <br />On GitHub, the HTML representation is unable to render, please try loading this page with nbviewer.org.</b></div><div class=\"sk-container\" hidden><div class=\"sk-item\"><div class=\"sk-estimator sk-toggleable\"><input class=\"sk-toggleable__control sk-hidden--visually\" id=\"sk-estimator-id-1\" type=\"checkbox\" checked><label for=\"sk-estimator-id-1\" class=\"sk-toggleable__label sk-toggleable__label-arrow\">GaussianNB</label><div class=\"sk-toggleable__content\"><pre>GaussianNB()</pre></div></div></div></div></div>"
            ]
          },
          "metadata": {},
          "execution_count": 32
        }
      ]
    },
    {
      "cell_type": "code",
      "source": [
        "y_pred = clf.predict(x_test)\n"
      ],
      "metadata": {
        "id": "vZphiVVGWlFK"
      },
      "execution_count": 33,
      "outputs": []
    },
    {
      "cell_type": "code",
      "source": [
        "accuracy = accuracy_score(y_test, y_pred)\n",
        "print('Accuracy:', accuracy)"
      ],
      "metadata": {
        "colab": {
          "base_uri": "https://localhost:8080/"
        },
        "id": "SjrAPfzPWoNY",
        "outputId": "9d9b10ad-47e8-4355-809d-c327e8a7e29d"
      },
      "execution_count": 34,
      "outputs": [
        {
          "output_type": "stream",
          "name": "stdout",
          "text": [
            "Accuracy: 0.5415\n"
          ]
        }
      ]
    },
    {
      "cell_type": "code",
      "source": [
        "from sklearn.neural_network import MLPClassifier\n",
        "from sklearn.metrics import classification_report, confusion_matrix"
      ],
      "metadata": {
        "id": "fewjRVsqZh0O"
      },
      "execution_count": null,
      "outputs": []
    },
    {
      "cell_type": "code",
      "source": [
        "mlp = MLPClassifier(hidden_layer_sizes=(100, ),        # Number of hidden layers and units per layer\n",
        "                    activation='relu',                 # Activation function ('identity', 'logistic', 'tanh', 'relu')\n",
        "                    solver='adam',                     # Solver for weight optimization ('lbfgs', 'sgd', 'adam')\n",
        "                    alpha=0.0001,                      # L2 penalty (regularization term) parameter\n",
        "                    batch_size='auto',                 # Size of minibatches for stochastic optimizers\n",
        "                    learning_rate='constant',          # Learning rate schedule ('constant', 'invscaling', 'adaptive')\n",
        "                    learning_rate_init=0.001,          # The initial learning rate\n",
        "                    power_t=0.5,                       # The exponent for inverse scaling learning rate\n",
        "                    max_iter=300,                      # Maximum number of iterations\n",
        "                    shuffle=True,                      # Whether to shuffle samples in each iteration\n",
        "                    random_state=None,                 # Seed for the random number generator\n",
        "                    tol=0.0001,                        # Tolerance for the optimization\n",
        "                    verbose=False,                     # Whether to print progress messages\n",
        "                    warm_start=False,                  # Reuse the previous solution\n",
        "                    momentum=0.9,                      # Momentum for gradient descent update\n",
        "                    nesterovs_momentum=True,           # Whether to use Nesterov's momentum\n",
        "                    early_stopping=False,              # Terminate training when validation score is not improving\n",
        "                    validation_fraction=0.1,           # Proportion of training data to set aside as validation set\n",
        "                    beta_1=0.9,                        # Exponential decay rate for estimates of first moment vector in adam\n",
        "                    beta_2=0.999,                      # Exponential decay rate for estimates of second moment vector in adam\n",
        "                    epsilon=1e-8,                      # Value for numerical stability in adam\n",
        "                    n_iter_no_change=100,               # Maximum number of epochs without any improvement in the loss\n",
        "                    max_fun=15000)                     # Maximum number of function calls for the solver\n",
        "\n",
        "# Train the MLP classifier\n",
        "mlp.fit(x_train, y_train)\n",
        "\n",
        "# Make predictions\n",
        "y_pred = mlp.predict(x_test)\n"
      ],
      "metadata": {
        "id": "OGXncipGZUC0",
        "colab": {
          "base_uri": "https://localhost:8080/"
        },
        "outputId": "e287df89-7c56-4900-f9f7-24bc66ebadb8"
      },
      "execution_count": null,
      "outputs": [
        {
          "output_type": "stream",
          "name": "stderr",
          "text": [
            "/usr/local/lib/python3.10/dist-packages/sklearn/neural_network/_multilayer_perceptron.py:686: ConvergenceWarning: Stochastic Optimizer: Maximum iterations (300) reached and the optimization hasn't converged yet.\n",
            "  warnings.warn(\n"
          ]
        }
      ]
    },
    {
      "cell_type": "code",
      "source": [
        "print(confusion_matrix(y_test, y_pred))\n",
        "print(classification_report(y_test, y_pred))"
      ],
      "metadata": {
        "colab": {
          "base_uri": "https://localhost:8080/"
        },
        "id": "eSuWQR2RZt24",
        "outputId": "0c4c0d3a-0ef4-4051-8e96-0af15e5a5cc2"
      },
      "execution_count": null,
      "outputs": [
        {
          "output_type": "stream",
          "name": "stdout",
          "text": [
            "[[1372  360  291]\n",
            " [ 187 1544  265]\n",
            " [ 492  857  632]]\n",
            "              precision    recall  f1-score   support\n",
            "\n",
            "           2       0.67      0.68      0.67      2023\n",
            "           3       0.56      0.77      0.65      1996\n",
            "           4       0.53      0.32      0.40      1981\n",
            "\n",
            "    accuracy                           0.59      6000\n",
            "   macro avg       0.59      0.59      0.57      6000\n",
            "weighted avg       0.59      0.59      0.57      6000\n",
            "\n"
          ]
        }
      ]
    }
  ]
}